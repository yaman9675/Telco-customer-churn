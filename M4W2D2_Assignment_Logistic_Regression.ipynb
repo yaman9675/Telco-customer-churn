{
  "nbformat": 4,
  "nbformat_minor": 0,
  "metadata": {
    "kernelspec": {
      "display_name": "Python 3",
      "language": "python",
      "name": "python3"
    },
    "language_info": {
      "codemirror_mode": {
        "name": "ipython",
        "version": 3
      },
      "file_extension": ".py",
      "mimetype": "text/x-python",
      "name": "python",
      "nbconvert_exporter": "python",
      "pygments_lexer": "ipython3",
      "version": "3.7.1"
    },
    "colab": {
      "name": "M4W2D2 Assignment - Logistic Regression.ipynb",
      "provenance": [],
      "collapsed_sections": [],
      "include_colab_link": true
    }
  },
  "cells": [
    {
      "cell_type": "markdown",
      "metadata": {
        "id": "view-in-github",
        "colab_type": "text"
      },
      "source": [
        "<a href=\"https://colab.research.google.com/github/yaman9675/Telco-customer-churn/blob/main/M4W2D2_Assignment_Logistic_Regression.ipynb\" target=\"_parent\"><img src=\"https://colab.research.google.com/assets/colab-badge.svg\" alt=\"Open In Colab\"/></a>"
      ]
    },
    {
      "cell_type": "markdown",
      "metadata": {
        "id": "PYsTFWXYjCxF"
      },
      "source": [
        "# <u><b> Objective </b></u>\n",
        "## <b>To predict the whether a customer will churn or not, based on the variables available in the Telco customer churn data. </b>\n",
        "\n",
        "\n",
        "### Logistic regression does not make many of the key assumptions of linear regression and general linear models that are based on ordinary least squares algorithms – particularly regarding linearity, normality, homoscedasticity, and measurement level.\n",
        "\n",
        "### First, logistic regression does not require a linear relationship between the dependent and independent variables.  Second, the error terms (residuals) do not need to be normally distributed.  Third, homoscedasticity is not required.  Finally, the dependent variable in logistic regression is not measured on an interval or ratio scale.\n",
        "\n",
        "### However, some other assumptions still apply.\n",
        "\n",
        "### First, binary logistic regression requires the dependent variable to be binary and ordinal logistic regression requires the dependent variable to be ordinal.\n",
        "\n",
        "### Second, logistic regression requires the observations to be independent of each other.  In other words, the observations should not come from repeated measurements or matched data.\n",
        "\n",
        "### Third, logistic regression requires there to be little or no multicollinearity among the independent variables.  This means that the independent variables should not be too highly correlated with each other.\n",
        "\n",
        "### Fourth, logistic regression assumes linearity of independent variables and log odds.  although this analysis does not require the dependent and independent variables to be related linearly, it requires that the independent variables are linearly related to the log odds.\n",
        "\n",
        "\n",
        "### <b> In this assignment, you need to do the following : </b>\n",
        "\n",
        "* ### Remove correlated variables and run Logistic Regression\n",
        "* ### Also implement regularized logistic regression using the hyperparameter C in the sklearn implementation. Add details about how this hyperparameter affects the learning and performance of the model.\n",
        "* ### Evaluate your logistic regression models using metrics such as roc_auc, log_loss, precision, recall, accuracy and f-score. You already know these metrics from your assignments in Module 1. Explain your observations about these metrics results."
      ]
    },
    {
      "cell_type": "code",
      "source": [
        "# Importing the libraries\n",
        "import numpy as np\n",
        "import pandas as pd\n",
        "from numpy import math\n",
        "\n",
        "from sklearn.preprocessing import MinMaxScaler\n",
        "from sklearn.model_selection import train_test_split\n",
        "from sklearn.linear_model import LinearRegression\n",
        "from sklearn.metrics import r2_score\n",
        "from sklearn.metrics import mean_squared_error\n",
        "import seaborn as sns\n",
        "import matplotlib.pyplot as plt\n",
        "import warnings\n",
        "warnings.filterwarnings('ignore')"
      ],
      "metadata": {
        "id": "LWv3bSacl5lg"
      },
      "execution_count": null,
      "outputs": []
    },
    {
      "cell_type": "code",
      "metadata": {
        "id": "Ah_20SDKV7Ao"
      },
      "source": [
        "import numpy as np\n",
        "import pandas as pd\n",
        "import matplotlib.pyplot as plt\n",
        "from sklearn import metrics\n",
        "from sklearn.linear_model import LogisticRegression\n",
        "%matplotlib inline"
      ],
      "execution_count": null,
      "outputs": []
    },
    {
      "cell_type": "code",
      "source": [
        "from google.colab import drive\n",
        "drive.mount('/content/drive')"
      ],
      "metadata": {
        "colab": {
          "base_uri": "https://localhost:8080/"
        },
        "id": "dserLV-Hc1dg",
        "outputId": "72ea9323-0075-4dc9-eec5-782e01d23766"
      },
      "execution_count": null,
      "outputs": [
        {
          "output_type": "stream",
          "name": "stdout",
          "text": [
            "Mounted at /content/drive\n"
          ]
        }
      ]
    },
    {
      "cell_type": "code",
      "source": [
        "telco = pd.read_csv(\"/content/drive/MyDrive/Colab Notebooks/Data/WA_Fn-UseC_-Telco-Customer-Churn.csv\")"
      ],
      "metadata": {
        "id": "YhGlSCO8c1ak"
      },
      "execution_count": null,
      "outputs": []
    },
    {
      "cell_type": "code",
      "source": [
        "telco.shape"
      ],
      "metadata": {
        "colab": {
          "base_uri": "https://localhost:8080/"
        },
        "id": "3tVdaXaAdN_b",
        "outputId": "9386bc4f-5d70-48e9-e3b2-8111a8462122"
      },
      "execution_count": null,
      "outputs": [
        {
          "output_type": "execute_result",
          "data": {
            "text/plain": [
              "(7043, 21)"
            ]
          },
          "metadata": {},
          "execution_count": 6
        }
      ]
    },
    {
      "cell_type": "code",
      "source": [
        "telco.head(4)"
      ],
      "metadata": {
        "colab": {
          "base_uri": "https://localhost:8080/",
          "height": 337
        },
        "id": "pagcf12XdIHl",
        "outputId": "79152123-fecb-4544-a97e-26d27b4677f9"
      },
      "execution_count": null,
      "outputs": [
        {
          "output_type": "execute_result",
          "data": {
            "text/html": [
              "\n",
              "  <div id=\"df-28e9ccbd-803a-415c-bbf8-fa2126331534\">\n",
              "    <div class=\"colab-df-container\">\n",
              "      <div>\n",
              "<style scoped>\n",
              "    .dataframe tbody tr th:only-of-type {\n",
              "        vertical-align: middle;\n",
              "    }\n",
              "\n",
              "    .dataframe tbody tr th {\n",
              "        vertical-align: top;\n",
              "    }\n",
              "\n",
              "    .dataframe thead th {\n",
              "        text-align: right;\n",
              "    }\n",
              "</style>\n",
              "<table border=\"1\" class=\"dataframe\">\n",
              "  <thead>\n",
              "    <tr style=\"text-align: right;\">\n",
              "      <th></th>\n",
              "      <th>customerID</th>\n",
              "      <th>gender</th>\n",
              "      <th>SeniorCitizen</th>\n",
              "      <th>Partner</th>\n",
              "      <th>Dependents</th>\n",
              "      <th>tenure</th>\n",
              "      <th>PhoneService</th>\n",
              "      <th>MultipleLines</th>\n",
              "      <th>InternetService</th>\n",
              "      <th>OnlineSecurity</th>\n",
              "      <th>...</th>\n",
              "      <th>DeviceProtection</th>\n",
              "      <th>TechSupport</th>\n",
              "      <th>StreamingTV</th>\n",
              "      <th>StreamingMovies</th>\n",
              "      <th>Contract</th>\n",
              "      <th>PaperlessBilling</th>\n",
              "      <th>PaymentMethod</th>\n",
              "      <th>MonthlyCharges</th>\n",
              "      <th>TotalCharges</th>\n",
              "      <th>Churn</th>\n",
              "    </tr>\n",
              "  </thead>\n",
              "  <tbody>\n",
              "    <tr>\n",
              "      <th>0</th>\n",
              "      <td>7590-VHVEG</td>\n",
              "      <td>Female</td>\n",
              "      <td>0</td>\n",
              "      <td>Yes</td>\n",
              "      <td>No</td>\n",
              "      <td>1</td>\n",
              "      <td>No</td>\n",
              "      <td>No phone service</td>\n",
              "      <td>DSL</td>\n",
              "      <td>No</td>\n",
              "      <td>...</td>\n",
              "      <td>No</td>\n",
              "      <td>No</td>\n",
              "      <td>No</td>\n",
              "      <td>No</td>\n",
              "      <td>Month-to-month</td>\n",
              "      <td>Yes</td>\n",
              "      <td>Electronic check</td>\n",
              "      <td>29.85</td>\n",
              "      <td>29.85</td>\n",
              "      <td>No</td>\n",
              "    </tr>\n",
              "    <tr>\n",
              "      <th>1</th>\n",
              "      <td>5575-GNVDE</td>\n",
              "      <td>Male</td>\n",
              "      <td>0</td>\n",
              "      <td>No</td>\n",
              "      <td>No</td>\n",
              "      <td>34</td>\n",
              "      <td>Yes</td>\n",
              "      <td>No</td>\n",
              "      <td>DSL</td>\n",
              "      <td>Yes</td>\n",
              "      <td>...</td>\n",
              "      <td>Yes</td>\n",
              "      <td>No</td>\n",
              "      <td>No</td>\n",
              "      <td>No</td>\n",
              "      <td>One year</td>\n",
              "      <td>No</td>\n",
              "      <td>Mailed check</td>\n",
              "      <td>56.95</td>\n",
              "      <td>1889.5</td>\n",
              "      <td>No</td>\n",
              "    </tr>\n",
              "    <tr>\n",
              "      <th>2</th>\n",
              "      <td>3668-QPYBK</td>\n",
              "      <td>Male</td>\n",
              "      <td>0</td>\n",
              "      <td>No</td>\n",
              "      <td>No</td>\n",
              "      <td>2</td>\n",
              "      <td>Yes</td>\n",
              "      <td>No</td>\n",
              "      <td>DSL</td>\n",
              "      <td>Yes</td>\n",
              "      <td>...</td>\n",
              "      <td>No</td>\n",
              "      <td>No</td>\n",
              "      <td>No</td>\n",
              "      <td>No</td>\n",
              "      <td>Month-to-month</td>\n",
              "      <td>Yes</td>\n",
              "      <td>Mailed check</td>\n",
              "      <td>53.85</td>\n",
              "      <td>108.15</td>\n",
              "      <td>Yes</td>\n",
              "    </tr>\n",
              "    <tr>\n",
              "      <th>3</th>\n",
              "      <td>7795-CFOCW</td>\n",
              "      <td>Male</td>\n",
              "      <td>0</td>\n",
              "      <td>No</td>\n",
              "      <td>No</td>\n",
              "      <td>45</td>\n",
              "      <td>No</td>\n",
              "      <td>No phone service</td>\n",
              "      <td>DSL</td>\n",
              "      <td>Yes</td>\n",
              "      <td>...</td>\n",
              "      <td>Yes</td>\n",
              "      <td>Yes</td>\n",
              "      <td>No</td>\n",
              "      <td>No</td>\n",
              "      <td>One year</td>\n",
              "      <td>No</td>\n",
              "      <td>Bank transfer (automatic)</td>\n",
              "      <td>42.30</td>\n",
              "      <td>1840.75</td>\n",
              "      <td>No</td>\n",
              "    </tr>\n",
              "  </tbody>\n",
              "</table>\n",
              "<p>4 rows × 21 columns</p>\n",
              "</div>\n",
              "      <button class=\"colab-df-convert\" onclick=\"convertToInteractive('df-28e9ccbd-803a-415c-bbf8-fa2126331534')\"\n",
              "              title=\"Convert this dataframe to an interactive table.\"\n",
              "              style=\"display:none;\">\n",
              "        \n",
              "  <svg xmlns=\"http://www.w3.org/2000/svg\" height=\"24px\"viewBox=\"0 0 24 24\"\n",
              "       width=\"24px\">\n",
              "    <path d=\"M0 0h24v24H0V0z\" fill=\"none\"/>\n",
              "    <path d=\"M18.56 5.44l.94 2.06.94-2.06 2.06-.94-2.06-.94-.94-2.06-.94 2.06-2.06.94zm-11 1L8.5 8.5l.94-2.06 2.06-.94-2.06-.94L8.5 2.5l-.94 2.06-2.06.94zm10 10l.94 2.06.94-2.06 2.06-.94-2.06-.94-.94-2.06-.94 2.06-2.06.94z\"/><path d=\"M17.41 7.96l-1.37-1.37c-.4-.4-.92-.59-1.43-.59-.52 0-1.04.2-1.43.59L10.3 9.45l-7.72 7.72c-.78.78-.78 2.05 0 2.83L4 21.41c.39.39.9.59 1.41.59.51 0 1.02-.2 1.41-.59l7.78-7.78 2.81-2.81c.8-.78.8-2.07 0-2.86zM5.41 20L4 18.59l7.72-7.72 1.47 1.35L5.41 20z\"/>\n",
              "  </svg>\n",
              "      </button>\n",
              "      \n",
              "  <style>\n",
              "    .colab-df-container {\n",
              "      display:flex;\n",
              "      flex-wrap:wrap;\n",
              "      gap: 12px;\n",
              "    }\n",
              "\n",
              "    .colab-df-convert {\n",
              "      background-color: #E8F0FE;\n",
              "      border: none;\n",
              "      border-radius: 50%;\n",
              "      cursor: pointer;\n",
              "      display: none;\n",
              "      fill: #1967D2;\n",
              "      height: 32px;\n",
              "      padding: 0 0 0 0;\n",
              "      width: 32px;\n",
              "    }\n",
              "\n",
              "    .colab-df-convert:hover {\n",
              "      background-color: #E2EBFA;\n",
              "      box-shadow: 0px 1px 2px rgba(60, 64, 67, 0.3), 0px 1px 3px 1px rgba(60, 64, 67, 0.15);\n",
              "      fill: #174EA6;\n",
              "    }\n",
              "\n",
              "    [theme=dark] .colab-df-convert {\n",
              "      background-color: #3B4455;\n",
              "      fill: #D2E3FC;\n",
              "    }\n",
              "\n",
              "    [theme=dark] .colab-df-convert:hover {\n",
              "      background-color: #434B5C;\n",
              "      box-shadow: 0px 1px 3px 1px rgba(0, 0, 0, 0.15);\n",
              "      filter: drop-shadow(0px 1px 2px rgba(0, 0, 0, 0.3));\n",
              "      fill: #FFFFFF;\n",
              "    }\n",
              "  </style>\n",
              "\n",
              "      <script>\n",
              "        const buttonEl =\n",
              "          document.querySelector('#df-28e9ccbd-803a-415c-bbf8-fa2126331534 button.colab-df-convert');\n",
              "        buttonEl.style.display =\n",
              "          google.colab.kernel.accessAllowed ? 'block' : 'none';\n",
              "\n",
              "        async function convertToInteractive(key) {\n",
              "          const element = document.querySelector('#df-28e9ccbd-803a-415c-bbf8-fa2126331534');\n",
              "          const dataTable =\n",
              "            await google.colab.kernel.invokeFunction('convertToInteractive',\n",
              "                                                     [key], {});\n",
              "          if (!dataTable) return;\n",
              "\n",
              "          const docLinkHtml = 'Like what you see? Visit the ' +\n",
              "            '<a target=\"_blank\" href=https://colab.research.google.com/notebooks/data_table.ipynb>data table notebook</a>'\n",
              "            + ' to learn more about interactive tables.';\n",
              "          element.innerHTML = '';\n",
              "          dataTable['output_type'] = 'display_data';\n",
              "          await google.colab.output.renderOutput(dataTable, element);\n",
              "          const docLink = document.createElement('div');\n",
              "          docLink.innerHTML = docLinkHtml;\n",
              "          element.appendChild(docLink);\n",
              "        }\n",
              "      </script>\n",
              "    </div>\n",
              "  </div>\n",
              "  "
            ],
            "text/plain": [
              "   customerID  gender  SeniorCitizen Partner Dependents  tenure PhoneService  \\\n",
              "0  7590-VHVEG  Female              0     Yes         No       1           No   \n",
              "1  5575-GNVDE    Male              0      No         No      34          Yes   \n",
              "2  3668-QPYBK    Male              0      No         No       2          Yes   \n",
              "3  7795-CFOCW    Male              0      No         No      45           No   \n",
              "\n",
              "      MultipleLines InternetService OnlineSecurity  ... DeviceProtection  \\\n",
              "0  No phone service             DSL             No  ...               No   \n",
              "1                No             DSL            Yes  ...              Yes   \n",
              "2                No             DSL            Yes  ...               No   \n",
              "3  No phone service             DSL            Yes  ...              Yes   \n",
              "\n",
              "  TechSupport StreamingTV StreamingMovies        Contract PaperlessBilling  \\\n",
              "0          No          No              No  Month-to-month              Yes   \n",
              "1          No          No              No        One year               No   \n",
              "2          No          No              No  Month-to-month              Yes   \n",
              "3         Yes          No              No        One year               No   \n",
              "\n",
              "               PaymentMethod MonthlyCharges  TotalCharges Churn  \n",
              "0           Electronic check          29.85         29.85    No  \n",
              "1               Mailed check          56.95        1889.5    No  \n",
              "2               Mailed check          53.85        108.15   Yes  \n",
              "3  Bank transfer (automatic)          42.30       1840.75    No  \n",
              "\n",
              "[4 rows x 21 columns]"
            ]
          },
          "metadata": {},
          "execution_count": 7
        }
      ]
    },
    {
      "cell_type": "code",
      "source": [
        "telco.describe()"
      ],
      "metadata": {
        "colab": {
          "base_uri": "https://localhost:8080/",
          "height": 300
        },
        "id": "SPkT7kP1dIEs",
        "outputId": "4ec66462-4280-4f4a-fc28-9359fcba98c7"
      },
      "execution_count": null,
      "outputs": [
        {
          "output_type": "execute_result",
          "data": {
            "text/html": [
              "\n",
              "  <div id=\"df-bffbb730-b83b-42e8-9d71-bc675b0b97e0\">\n",
              "    <div class=\"colab-df-container\">\n",
              "      <div>\n",
              "<style scoped>\n",
              "    .dataframe tbody tr th:only-of-type {\n",
              "        vertical-align: middle;\n",
              "    }\n",
              "\n",
              "    .dataframe tbody tr th {\n",
              "        vertical-align: top;\n",
              "    }\n",
              "\n",
              "    .dataframe thead th {\n",
              "        text-align: right;\n",
              "    }\n",
              "</style>\n",
              "<table border=\"1\" class=\"dataframe\">\n",
              "  <thead>\n",
              "    <tr style=\"text-align: right;\">\n",
              "      <th></th>\n",
              "      <th>SeniorCitizen</th>\n",
              "      <th>tenure</th>\n",
              "      <th>MonthlyCharges</th>\n",
              "    </tr>\n",
              "  </thead>\n",
              "  <tbody>\n",
              "    <tr>\n",
              "      <th>count</th>\n",
              "      <td>7043.000000</td>\n",
              "      <td>7043.000000</td>\n",
              "      <td>7043.000000</td>\n",
              "    </tr>\n",
              "    <tr>\n",
              "      <th>mean</th>\n",
              "      <td>0.162147</td>\n",
              "      <td>32.371149</td>\n",
              "      <td>64.761692</td>\n",
              "    </tr>\n",
              "    <tr>\n",
              "      <th>std</th>\n",
              "      <td>0.368612</td>\n",
              "      <td>24.559481</td>\n",
              "      <td>30.090047</td>\n",
              "    </tr>\n",
              "    <tr>\n",
              "      <th>min</th>\n",
              "      <td>0.000000</td>\n",
              "      <td>0.000000</td>\n",
              "      <td>18.250000</td>\n",
              "    </tr>\n",
              "    <tr>\n",
              "      <th>25%</th>\n",
              "      <td>0.000000</td>\n",
              "      <td>9.000000</td>\n",
              "      <td>35.500000</td>\n",
              "    </tr>\n",
              "    <tr>\n",
              "      <th>50%</th>\n",
              "      <td>0.000000</td>\n",
              "      <td>29.000000</td>\n",
              "      <td>70.350000</td>\n",
              "    </tr>\n",
              "    <tr>\n",
              "      <th>75%</th>\n",
              "      <td>0.000000</td>\n",
              "      <td>55.000000</td>\n",
              "      <td>89.850000</td>\n",
              "    </tr>\n",
              "    <tr>\n",
              "      <th>max</th>\n",
              "      <td>1.000000</td>\n",
              "      <td>72.000000</td>\n",
              "      <td>118.750000</td>\n",
              "    </tr>\n",
              "  </tbody>\n",
              "</table>\n",
              "</div>\n",
              "      <button class=\"colab-df-convert\" onclick=\"convertToInteractive('df-bffbb730-b83b-42e8-9d71-bc675b0b97e0')\"\n",
              "              title=\"Convert this dataframe to an interactive table.\"\n",
              "              style=\"display:none;\">\n",
              "        \n",
              "  <svg xmlns=\"http://www.w3.org/2000/svg\" height=\"24px\"viewBox=\"0 0 24 24\"\n",
              "       width=\"24px\">\n",
              "    <path d=\"M0 0h24v24H0V0z\" fill=\"none\"/>\n",
              "    <path d=\"M18.56 5.44l.94 2.06.94-2.06 2.06-.94-2.06-.94-.94-2.06-.94 2.06-2.06.94zm-11 1L8.5 8.5l.94-2.06 2.06-.94-2.06-.94L8.5 2.5l-.94 2.06-2.06.94zm10 10l.94 2.06.94-2.06 2.06-.94-2.06-.94-.94-2.06-.94 2.06-2.06.94z\"/><path d=\"M17.41 7.96l-1.37-1.37c-.4-.4-.92-.59-1.43-.59-.52 0-1.04.2-1.43.59L10.3 9.45l-7.72 7.72c-.78.78-.78 2.05 0 2.83L4 21.41c.39.39.9.59 1.41.59.51 0 1.02-.2 1.41-.59l7.78-7.78 2.81-2.81c.8-.78.8-2.07 0-2.86zM5.41 20L4 18.59l7.72-7.72 1.47 1.35L5.41 20z\"/>\n",
              "  </svg>\n",
              "      </button>\n",
              "      \n",
              "  <style>\n",
              "    .colab-df-container {\n",
              "      display:flex;\n",
              "      flex-wrap:wrap;\n",
              "      gap: 12px;\n",
              "    }\n",
              "\n",
              "    .colab-df-convert {\n",
              "      background-color: #E8F0FE;\n",
              "      border: none;\n",
              "      border-radius: 50%;\n",
              "      cursor: pointer;\n",
              "      display: none;\n",
              "      fill: #1967D2;\n",
              "      height: 32px;\n",
              "      padding: 0 0 0 0;\n",
              "      width: 32px;\n",
              "    }\n",
              "\n",
              "    .colab-df-convert:hover {\n",
              "      background-color: #E2EBFA;\n",
              "      box-shadow: 0px 1px 2px rgba(60, 64, 67, 0.3), 0px 1px 3px 1px rgba(60, 64, 67, 0.15);\n",
              "      fill: #174EA6;\n",
              "    }\n",
              "\n",
              "    [theme=dark] .colab-df-convert {\n",
              "      background-color: #3B4455;\n",
              "      fill: #D2E3FC;\n",
              "    }\n",
              "\n",
              "    [theme=dark] .colab-df-convert:hover {\n",
              "      background-color: #434B5C;\n",
              "      box-shadow: 0px 1px 3px 1px rgba(0, 0, 0, 0.15);\n",
              "      filter: drop-shadow(0px 1px 2px rgba(0, 0, 0, 0.3));\n",
              "      fill: #FFFFFF;\n",
              "    }\n",
              "  </style>\n",
              "\n",
              "      <script>\n",
              "        const buttonEl =\n",
              "          document.querySelector('#df-bffbb730-b83b-42e8-9d71-bc675b0b97e0 button.colab-df-convert');\n",
              "        buttonEl.style.display =\n",
              "          google.colab.kernel.accessAllowed ? 'block' : 'none';\n",
              "\n",
              "        async function convertToInteractive(key) {\n",
              "          const element = document.querySelector('#df-bffbb730-b83b-42e8-9d71-bc675b0b97e0');\n",
              "          const dataTable =\n",
              "            await google.colab.kernel.invokeFunction('convertToInteractive',\n",
              "                                                     [key], {});\n",
              "          if (!dataTable) return;\n",
              "\n",
              "          const docLinkHtml = 'Like what you see? Visit the ' +\n",
              "            '<a target=\"_blank\" href=https://colab.research.google.com/notebooks/data_table.ipynb>data table notebook</a>'\n",
              "            + ' to learn more about interactive tables.';\n",
              "          element.innerHTML = '';\n",
              "          dataTable['output_type'] = 'display_data';\n",
              "          await google.colab.output.renderOutput(dataTable, element);\n",
              "          const docLink = document.createElement('div');\n",
              "          docLink.innerHTML = docLinkHtml;\n",
              "          element.appendChild(docLink);\n",
              "        }\n",
              "      </script>\n",
              "    </div>\n",
              "  </div>\n",
              "  "
            ],
            "text/plain": [
              "       SeniorCitizen       tenure  MonthlyCharges\n",
              "count    7043.000000  7043.000000     7043.000000\n",
              "mean        0.162147    32.371149       64.761692\n",
              "std         0.368612    24.559481       30.090047\n",
              "min         0.000000     0.000000       18.250000\n",
              "25%         0.000000     9.000000       35.500000\n",
              "50%         0.000000    29.000000       70.350000\n",
              "75%         0.000000    55.000000       89.850000\n",
              "max         1.000000    72.000000      118.750000"
            ]
          },
          "metadata": {},
          "execution_count": 8
        }
      ]
    },
    {
      "cell_type": "code",
      "source": [
        "telco.info()"
      ],
      "metadata": {
        "colab": {
          "base_uri": "https://localhost:8080/"
        },
        "id": "SVWXtF4ddWej",
        "outputId": "1afc39b4-5b1a-4e24-fe8a-548bae3c7093"
      },
      "execution_count": null,
      "outputs": [
        {
          "output_type": "stream",
          "name": "stdout",
          "text": [
            "<class 'pandas.core.frame.DataFrame'>\n",
            "RangeIndex: 7043 entries, 0 to 7042\n",
            "Data columns (total 21 columns):\n",
            " #   Column            Non-Null Count  Dtype  \n",
            "---  ------            --------------  -----  \n",
            " 0   customerID        7043 non-null   object \n",
            " 1   gender            7043 non-null   object \n",
            " 2   SeniorCitizen     7043 non-null   int64  \n",
            " 3   Partner           7043 non-null   object \n",
            " 4   Dependents        7043 non-null   object \n",
            " 5   tenure            7043 non-null   int64  \n",
            " 6   PhoneService      7043 non-null   object \n",
            " 7   MultipleLines     7043 non-null   object \n",
            " 8   InternetService   7043 non-null   object \n",
            " 9   OnlineSecurity    7043 non-null   object \n",
            " 10  OnlineBackup      7043 non-null   object \n",
            " 11  DeviceProtection  7043 non-null   object \n",
            " 12  TechSupport       7043 non-null   object \n",
            " 13  StreamingTV       7043 non-null   object \n",
            " 14  StreamingMovies   7043 non-null   object \n",
            " 15  Contract          7043 non-null   object \n",
            " 16  PaperlessBilling  7043 non-null   object \n",
            " 17  PaymentMethod     7043 non-null   object \n",
            " 18  MonthlyCharges    7043 non-null   float64\n",
            " 19  TotalCharges      7043 non-null   object \n",
            " 20  Churn             7043 non-null   object \n",
            "dtypes: float64(1), int64(2), object(18)\n",
            "memory usage: 1.1+ MB\n"
          ]
        }
      ]
    },
    {
      "cell_type": "markdown",
      "source": [
        "#Exploratory Data Analysis"
      ],
      "metadata": {
        "id": "7xtgFAzSlksv"
      }
    },
    {
      "cell_type": "code",
      "source": [
        "telco.columns"
      ],
      "metadata": {
        "colab": {
          "base_uri": "https://localhost:8080/"
        },
        "id": "t3vVNu9El9Mv",
        "outputId": "c9c6e147-6071-4a7d-fc2a-2121833983b0"
      },
      "execution_count": null,
      "outputs": [
        {
          "output_type": "execute_result",
          "data": {
            "text/plain": [
              "Index(['customerID', 'gender', 'SeniorCitizen', 'Partner', 'Dependents',\n",
              "       'tenure', 'PhoneService', 'MultipleLines', 'InternetService',\n",
              "       'OnlineSecurity', 'OnlineBackup', 'DeviceProtection', 'TechSupport',\n",
              "       'StreamingTV', 'StreamingMovies', 'Contract', 'PaperlessBilling',\n",
              "       'PaymentMethod', 'MonthlyCharges', 'TotalCharges', 'Churn'],\n",
              "      dtype='object')"
            ]
          },
          "metadata": {},
          "execution_count": 10
        }
      ]
    },
    {
      "cell_type": "code",
      "source": [
        "#Churn Count\n",
        "telco['Churn'].value_counts()"
      ],
      "metadata": {
        "colab": {
          "base_uri": "https://localhost:8080/"
        },
        "id": "mYdC9K6ikVbb",
        "outputId": "e1807214-60d1-41a3-bb4b-aecff4988c42"
      },
      "execution_count": null,
      "outputs": [
        {
          "output_type": "execute_result",
          "data": {
            "text/plain": [
              "No     5174\n",
              "Yes    1869\n",
              "Name: Churn, dtype: int64"
            ]
          },
          "metadata": {},
          "execution_count": 18
        }
      ]
    },
    {
      "cell_type": "code",
      "source": [
        "# Plot Churn Count\n",
        "plt.figure(figsize=(7,7))\n",
        "churn_count = telco['Churn'].value_counts()\n",
        "churn_count.plot(kind='bar', color = 'blue')"
      ],
      "metadata": {
        "colab": {
          "base_uri": "https://localhost:8080/",
          "height": 452
        },
        "id": "UMvVPPfwdWc0",
        "outputId": "58688105-43ff-450c-d5ba-b5055d683568"
      },
      "execution_count": null,
      "outputs": [
        {
          "output_type": "execute_result",
          "data": {
            "text/plain": [
              "<matplotlib.axes._subplots.AxesSubplot at 0x7f0e44e16410>"
            ]
          },
          "metadata": {},
          "execution_count": 19
        },
        {
          "output_type": "display_data",
          "data": {
            "image/png": "[encoded data removed]",
            "text/plain": [
              "<Figure size 504x504 with 1 Axes>"
            ]
          },
          "metadata": {
            "needs_background": "light"
          }
        }
      ]
    },
    {
      "cell_type": "code",
      "source": [
        "# Monthly Charges v/s Churn\n",
        "fig = plt.figure(figsize=(9, 6))\n",
        "ax = fig.gca()\n",
        "telco.boxplot(column = 'MonthlyCharges', by = 'Churn', ax = ax)\n",
        "ax.set_ylabel(\"MonthlyCharges\")\n",
        "plt.show()"
      ],
      "metadata": {
        "colab": {
          "base_uri": "https://localhost:8080/",
          "height": 420
        },
        "id": "txYBdFF-dWa9",
        "outputId": "b1e7e704-002e-4b15-99f9-4b82f87ef9be"
      },
      "execution_count": null,
      "outputs": [
        {
          "output_type": "display_data",
          "data": {
            "image/png": "[encoded data removed]",
            "text/plain": [
              "<Figure size 648x432 with 1 Axes>"
            ]
          },
          "metadata": {
            "needs_background": "light"
          }
        }
      ]
    },
    {
      "cell_type": "code",
      "source": [
        "# Tenure v/s Churn\n",
        "fig = plt.figure(figsize=(9, 6))\n",
        "ax = fig.gca()\n",
        "telco.boxplot(column = 'tenure', by = 'Churn', ax = ax)\n",
        "ax.set_ylabel(\"Tenure\")\n",
        "plt.show()"
      ],
      "metadata": {
        "colab": {
          "base_uri": "https://localhost:8080/",
          "height": 420
        },
        "id": "M2_-cXUadWZL",
        "outputId": "32653ea3-40a1-474e-8dd6-97a44f4010ee"
      },
      "execution_count": null,
      "outputs": [
        {
          "output_type": "display_data",
          "data": {
            "image/png": "[encoded data removed]",
            "text/plain": [
              "<Figure size 648x432 with 1 Axes>"
            ]
          },
          "metadata": {
            "needs_background": "light"
          }
        }
      ]
    },
    {
      "cell_type": "markdown",
      "source": [
        "### Before we start predicting, an important step to do is to convert our **Churn** feature, which is a string, into integer. *Yes* will be converted to 1 and *No* will be converted to 0. We will name this new columns a \"class\"."
      ],
      "metadata": {
        "id": "F3wN5zIx4Mzd"
      }
    },
    {
      "cell_type": "code",
      "source": [
        "# Creating a class Yes = 1 (churn) and No = 0 (not churn)\n",
        "telco['class'] = telco['Churn'].apply(lambda x : 1 if x == \"Yes\" else 0)"
      ],
      "metadata": {
        "id": "cXGvEp1_5LTS"
      },
      "execution_count": null,
      "outputs": []
    },
    {
      "cell_type": "code",
      "source": [
        "telco.head(2)"
      ],
      "metadata": {
        "colab": {
          "base_uri": "https://localhost:8080/",
          "height": 240
        },
        "id": "dVdLRAjy5Na_",
        "outputId": "73fe4278-ceff-4cb9-e9f8-6804c89d2f5c"
      },
      "execution_count": null,
      "outputs": [
        {
          "output_type": "execute_result",
          "data": {
            "text/html": [
              "\n",
              "  <div id=\"df-bc60f413-c98f-4525-878f-64a4d574e7a7\">\n",
              "    <div class=\"colab-df-container\">\n",
              "      <div>\n",
              "<style scoped>\n",
              "    .dataframe tbody tr th:only-of-type {\n",
              "        vertical-align: middle;\n",
              "    }\n",
              "\n",
              "    .dataframe tbody tr th {\n",
              "        vertical-align: top;\n",
              "    }\n",
              "\n",
              "    .dataframe thead th {\n",
              "        text-align: right;\n",
              "    }\n",
              "</style>\n",
              "<table border=\"1\" class=\"dataframe\">\n",
              "  <thead>\n",
              "    <tr style=\"text-align: right;\">\n",
              "      <th></th>\n",
              "      <th>customerID</th>\n",
              "      <th>gender</th>\n",
              "      <th>SeniorCitizen</th>\n",
              "      <th>Partner</th>\n",
              "      <th>Dependents</th>\n",
              "      <th>tenure</th>\n",
              "      <th>PhoneService</th>\n",
              "      <th>MultipleLines</th>\n",
              "      <th>InternetService</th>\n",
              "      <th>OnlineSecurity</th>\n",
              "      <th>...</th>\n",
              "      <th>TechSupport</th>\n",
              "      <th>StreamingTV</th>\n",
              "      <th>StreamingMovies</th>\n",
              "      <th>Contract</th>\n",
              "      <th>PaperlessBilling</th>\n",
              "      <th>PaymentMethod</th>\n",
              "      <th>MonthlyCharges</th>\n",
              "      <th>TotalCharges</th>\n",
              "      <th>Churn</th>\n",
              "      <th>class</th>\n",
              "    </tr>\n",
              "  </thead>\n",
              "  <tbody>\n",
              "    <tr>\n",
              "      <th>0</th>\n",
              "      <td>7590-VHVEG</td>\n",
              "      <td>Female</td>\n",
              "      <td>0</td>\n",
              "      <td>Yes</td>\n",
              "      <td>No</td>\n",
              "      <td>1</td>\n",
              "      <td>No</td>\n",
              "      <td>No phone service</td>\n",
              "      <td>DSL</td>\n",
              "      <td>No</td>\n",
              "      <td>...</td>\n",
              "      <td>No</td>\n",
              "      <td>No</td>\n",
              "      <td>No</td>\n",
              "      <td>Month-to-month</td>\n",
              "      <td>Yes</td>\n",
              "      <td>Electronic check</td>\n",
              "      <td>29.85</td>\n",
              "      <td>29.85</td>\n",
              "      <td>No</td>\n",
              "      <td>0</td>\n",
              "    </tr>\n",
              "    <tr>\n",
              "      <th>1</th>\n",
              "      <td>5575-GNVDE</td>\n",
              "      <td>Male</td>\n",
              "      <td>0</td>\n",
              "      <td>No</td>\n",
              "      <td>No</td>\n",
              "      <td>34</td>\n",
              "      <td>Yes</td>\n",
              "      <td>No</td>\n",
              "      <td>DSL</td>\n",
              "      <td>Yes</td>\n",
              "      <td>...</td>\n",
              "      <td>No</td>\n",
              "      <td>No</td>\n",
              "      <td>No</td>\n",
              "      <td>One year</td>\n",
              "      <td>No</td>\n",
              "      <td>Mailed check</td>\n",
              "      <td>56.95</td>\n",
              "      <td>1889.5</td>\n",
              "      <td>No</td>\n",
              "      <td>0</td>\n",
              "    </tr>\n",
              "  </tbody>\n",
              "</table>\n",
              "<p>2 rows × 22 columns</p>\n",
              "</div>\n",
              "      <button class=\"colab-df-convert\" onclick=\"convertToInteractive('df-bc60f413-c98f-4525-878f-64a4d574e7a7')\"\n",
              "              title=\"Convert this dataframe to an interactive table.\"\n",
              "              style=\"display:none;\">\n",
              "        \n",
              "  <svg xmlns=\"http://www.w3.org/2000/svg\" height=\"24px\"viewBox=\"0 0 24 24\"\n",
              "       width=\"24px\">\n",
              "    <path d=\"M0 0h24v24H0V0z\" fill=\"none\"/>\n",
              "    <path d=\"M18.56 5.44l.94 2.06.94-2.06 2.06-.94-2.06-.94-.94-2.06-.94 2.06-2.06.94zm-11 1L8.5 8.5l.94-2.06 2.06-.94-2.06-.94L8.5 2.5l-.94 2.06-2.06.94zm10 10l.94 2.06.94-2.06 2.06-.94-2.06-.94-.94-2.06-.94 2.06-2.06.94z\"/><path d=\"M17.41 7.96l-1.37-1.37c-.4-.4-.92-.59-1.43-.59-.52 0-1.04.2-1.43.59L10.3 9.45l-7.72 7.72c-.78.78-.78 2.05 0 2.83L4 21.41c.39.39.9.59 1.41.59.51 0 1.02-.2 1.41-.59l7.78-7.78 2.81-2.81c.8-.78.8-2.07 0-2.86zM5.41 20L4 18.59l7.72-7.72 1.47 1.35L5.41 20z\"/>\n",
              "  </svg>\n",
              "      </button>\n",
              "      \n",
              "  <style>\n",
              "    .colab-df-container {\n",
              "      display:flex;\n",
              "      flex-wrap:wrap;\n",
              "      gap: 12px;\n",
              "    }\n",
              "\n",
              "    .colab-df-convert {\n",
              "      background-color: #E8F0FE;\n",
              "      border: none;\n",
              "      border-radius: 50%;\n",
              "      cursor: pointer;\n",
              "      display: none;\n",
              "      fill: #1967D2;\n",
              "      height: 32px;\n",
              "      padding: 0 0 0 0;\n",
              "      width: 32px;\n",
              "    }\n",
              "\n",
              "    .colab-df-convert:hover {\n",
              "      background-color: #E2EBFA;\n",
              "      box-shadow: 0px 1px 2px rgba(60, 64, 67, 0.3), 0px 1px 3px 1px rgba(60, 64, 67, 0.15);\n",
              "      fill: #174EA6;\n",
              "    }\n",
              "\n",
              "    [theme=dark] .colab-df-convert {\n",
              "      background-color: #3B4455;\n",
              "      fill: #D2E3FC;\n",
              "    }\n",
              "\n",
              "    [theme=dark] .colab-df-convert:hover {\n",
              "      background-color: #434B5C;\n",
              "      box-shadow: 0px 1px 3px 1px rgba(0, 0, 0, 0.15);\n",
              "      filter: drop-shadow(0px 1px 2px rgba(0, 0, 0, 0.3));\n",
              "      fill: #FFFFFF;\n",
              "    }\n",
              "  </style>\n",
              "\n",
              "      <script>\n",
              "        const buttonEl =\n",
              "          document.querySelector('#df-bc60f413-c98f-4525-878f-64a4d574e7a7 button.colab-df-convert');\n",
              "        buttonEl.style.display =\n",
              "          google.colab.kernel.accessAllowed ? 'block' : 'none';\n",
              "\n",
              "        async function convertToInteractive(key) {\n",
              "          const element = document.querySelector('#df-bc60f413-c98f-4525-878f-64a4d574e7a7');\n",
              "          const dataTable =\n",
              "            await google.colab.kernel.invokeFunction('convertToInteractive',\n",
              "                                                     [key], {});\n",
              "          if (!dataTable) return;\n",
              "\n",
              "          const docLinkHtml = 'Like what you see? Visit the ' +\n",
              "            '<a target=\"_blank\" href=https://colab.research.google.com/notebooks/data_table.ipynb>data table notebook</a>'\n",
              "            + ' to learn more about interactive tables.';\n",
              "          element.innerHTML = '';\n",
              "          dataTable['output_type'] = 'display_data';\n",
              "          await google.colab.output.renderOutput(dataTable, element);\n",
              "          const docLink = document.createElement('div');\n",
              "          docLink.innerHTML = docLinkHtml;\n",
              "          element.appendChild(docLink);\n",
              "        }\n",
              "      </script>\n",
              "    </div>\n",
              "  </div>\n",
              "  "
            ],
            "text/plain": [
              "   customerID  gender  SeniorCitizen Partner Dependents  tenure PhoneService  \\\n",
              "0  7590-VHVEG  Female              0     Yes         No       1           No   \n",
              "1  5575-GNVDE    Male              0      No         No      34          Yes   \n",
              "\n",
              "      MultipleLines InternetService OnlineSecurity  ... TechSupport  \\\n",
              "0  No phone service             DSL             No  ...          No   \n",
              "1                No             DSL            Yes  ...          No   \n",
              "\n",
              "  StreamingTV StreamingMovies        Contract PaperlessBilling  \\\n",
              "0          No              No  Month-to-month              Yes   \n",
              "1          No              No        One year               No   \n",
              "\n",
              "      PaymentMethod MonthlyCharges TotalCharges  Churn class  \n",
              "0  Electronic check          29.85        29.85     No     0  \n",
              "1      Mailed check          56.95       1889.5     No     0  \n",
              "\n",
              "[2 rows x 22 columns]"
            ]
          },
          "metadata": {},
          "execution_count": 23
        }
      ]
    },
    {
      "cell_type": "code",
      "source": [
        "# telco['class'] = telco['Churn'].apply(lambda x : 1 if x == \"Yes\" else 0)\n",
        "# # features will be saved as X and our target will be saved as y\n",
        "# X = telco[['tenure','MonthlyCharges']]\n",
        "# y = telco['class']"
      ],
      "metadata": {
        "id": "YuNf6kqb42Mz"
      },
      "execution_count": null,
      "outputs": []
    },
    {
      "cell_type": "code",
      "source": [
        "# dependent_variable = telco['class']\n",
        "# dependent_variable[0:5]"
      ],
      "metadata": {
        "id": "gEBnOcoQ5Gex"
      },
      "execution_count": null,
      "outputs": []
    },
    {
      "cell_type": "code",
      "source": [
        "# independent_variable = telco[['tenure','MonthlyCharges']]\n",
        "# independent_variable[0:5]"
      ],
      "metadata": {
        "id": "Va02AXwR4_TI"
      },
      "execution_count": null,
      "outputs": []
    },
    {
      "cell_type": "code",
      "source": [
        "# X is a independent variables\n",
        "X = telco[['tenure','MonthlyCharges']]\n",
        "X[0:4]"
      ],
      "metadata": {
        "colab": {
          "base_uri": "https://localhost:8080/",
          "height": 175
        },
        "id": "QgOlbU6XdWXh",
        "outputId": "72748abd-ce5d-45ad-e7fd-3512580071cd"
      },
      "execution_count": null,
      "outputs": [
        {
          "output_type": "execute_result",
          "data": {
            "text/html": [
              "\n",
              "  <div id=\"df-5272fc77-1887-41fd-a60d-1fb5df77fa5b\">\n",
              "    <div class=\"colab-df-container\">\n",
              "      <div>\n",
              "<style scoped>\n",
              "    .dataframe tbody tr th:only-of-type {\n",
              "        vertical-align: middle;\n",
              "    }\n",
              "\n",
              "    .dataframe tbody tr th {\n",
              "        vertical-align: top;\n",
              "    }\n",
              "\n",
              "    .dataframe thead th {\n",
              "        text-align: right;\n",
              "    }\n",
              "</style>\n",
              "<table border=\"1\" class=\"dataframe\">\n",
              "  <thead>\n",
              "    <tr style=\"text-align: right;\">\n",
              "      <th></th>\n",
              "      <th>tenure</th>\n",
              "      <th>MonthlyCharges</th>\n",
              "    </tr>\n",
              "  </thead>\n",
              "  <tbody>\n",
              "    <tr>\n",
              "      <th>0</th>\n",
              "      <td>1</td>\n",
              "      <td>29.85</td>\n",
              "    </tr>\n",
              "    <tr>\n",
              "      <th>1</th>\n",
              "      <td>34</td>\n",
              "      <td>56.95</td>\n",
              "    </tr>\n",
              "    <tr>\n",
              "      <th>2</th>\n",
              "      <td>2</td>\n",
              "      <td>53.85</td>\n",
              "    </tr>\n",
              "    <tr>\n",
              "      <th>3</th>\n",
              "      <td>45</td>\n",
              "      <td>42.30</td>\n",
              "    </tr>\n",
              "  </tbody>\n",
              "</table>\n",
              "</div>\n",
              "      <button class=\"colab-df-convert\" onclick=\"convertToInteractive('df-5272fc77-1887-41fd-a60d-1fb5df77fa5b')\"\n",
              "              title=\"Convert this dataframe to an interactive table.\"\n",
              "              style=\"display:none;\">\n",
              "        \n",
              "  <svg xmlns=\"http://www.w3.org/2000/svg\" height=\"24px\"viewBox=\"0 0 24 24\"\n",
              "       width=\"24px\">\n",
              "    <path d=\"M0 0h24v24H0V0z\" fill=\"none\"/>\n",
              "    <path d=\"M18.56 5.44l.94 2.06.94-2.06 2.06-.94-2.06-.94-.94-2.06-.94 2.06-2.06.94zm-11 1L8.5 8.5l.94-2.06 2.06-.94-2.06-.94L8.5 2.5l-.94 2.06-2.06.94zm10 10l.94 2.06.94-2.06 2.06-.94-2.06-.94-.94-2.06-.94 2.06-2.06.94z\"/><path d=\"M17.41 7.96l-1.37-1.37c-.4-.4-.92-.59-1.43-.59-.52 0-1.04.2-1.43.59L10.3 9.45l-7.72 7.72c-.78.78-.78 2.05 0 2.83L4 21.41c.39.39.9.59 1.41.59.51 0 1.02-.2 1.41-.59l7.78-7.78 2.81-2.81c.8-.78.8-2.07 0-2.86zM5.41 20L4 18.59l7.72-7.72 1.47 1.35L5.41 20z\"/>\n",
              "  </svg>\n",
              "      </button>\n",
              "      \n",
              "  <style>\n",
              "    .colab-df-container {\n",
              "      display:flex;\n",
              "      flex-wrap:wrap;\n",
              "      gap: 12px;\n",
              "    }\n",
              "\n",
              "    .colab-df-convert {\n",
              "      background-color: #E8F0FE;\n",
              "      border: none;\n",
              "      border-radius: 50%;\n",
              "      cursor: pointer;\n",
              "      display: none;\n",
              "      fill: #1967D2;\n",
              "      height: 32px;\n",
              "      padding: 0 0 0 0;\n",
              "      width: 32px;\n",
              "    }\n",
              "\n",
              "    .colab-df-convert:hover {\n",
              "      background-color: #E2EBFA;\n",
              "      box-shadow: 0px 1px 2px rgba(60, 64, 67, 0.3), 0px 1px 3px 1px rgba(60, 64, 67, 0.15);\n",
              "      fill: #174EA6;\n",
              "    }\n",
              "\n",
              "    [theme=dark] .colab-df-convert {\n",
              "      background-color: #3B4455;\n",
              "      fill: #D2E3FC;\n",
              "    }\n",
              "\n",
              "    [theme=dark] .colab-df-convert:hover {\n",
              "      background-color: #434B5C;\n",
              "      box-shadow: 0px 1px 3px 1px rgba(0, 0, 0, 0.15);\n",
              "      filter: drop-shadow(0px 1px 2px rgba(0, 0, 0, 0.3));\n",
              "      fill: #FFFFFF;\n",
              "    }\n",
              "  </style>\n",
              "\n",
              "      <script>\n",
              "        const buttonEl =\n",
              "          document.querySelector('#df-5272fc77-1887-41fd-a60d-1fb5df77fa5b button.colab-df-convert');\n",
              "        buttonEl.style.display =\n",
              "          google.colab.kernel.accessAllowed ? 'block' : 'none';\n",
              "\n",
              "        async function convertToInteractive(key) {\n",
              "          const element = document.querySelector('#df-5272fc77-1887-41fd-a60d-1fb5df77fa5b');\n",
              "          const dataTable =\n",
              "            await google.colab.kernel.invokeFunction('convertToInteractive',\n",
              "                                                     [key], {});\n",
              "          if (!dataTable) return;\n",
              "\n",
              "          const docLinkHtml = 'Like what you see? Visit the ' +\n",
              "            '<a target=\"_blank\" href=https://colab.research.google.com/notebooks/data_table.ipynb>data table notebook</a>'\n",
              "            + ' to learn more about interactive tables.';\n",
              "          element.innerHTML = '';\n",
              "          dataTable['output_type'] = 'display_data';\n",
              "          await google.colab.output.renderOutput(dataTable, element);\n",
              "          const docLink = document.createElement('div');\n",
              "          docLink.innerHTML = docLinkHtml;\n",
              "          element.appendChild(docLink);\n",
              "        }\n",
              "      </script>\n",
              "    </div>\n",
              "  </div>\n",
              "  "
            ],
            "text/plain": [
              "   tenure  MonthlyCharges\n",
              "0       1           29.85\n",
              "1      34           56.95\n",
              "2       2           53.85\n",
              "3      45           42.30"
            ]
          },
          "metadata": {},
          "execution_count": 27
        }
      ]
    },
    {
      "cell_type": "code",
      "source": [
        "# y is a dependent variables\n",
        "y = telco['class']\n",
        "y[0:4]"
      ],
      "metadata": {
        "colab": {
          "base_uri": "https://localhost:8080/"
        },
        "id": "RS_5Gtu8dWWC",
        "outputId": "87b547ae-4322-4627-a40a-dcdd114bdb17"
      },
      "execution_count": null,
      "outputs": [
        {
          "output_type": "execute_result",
          "data": {
            "text/plain": [
              "0    0\n",
              "1    0\n",
              "2    1\n",
              "3    0\n",
              "Name: class, dtype: int64"
            ]
          },
          "metadata": {},
          "execution_count": 26
        }
      ]
    },
    {
      "cell_type": "markdown",
      "source": [
        "## <b> Splitting data into train and test"
      ],
      "metadata": {
        "id": "reZ0Pxbf8L4Q"
      }
    },
    {
      "cell_type": "code",
      "source": [
        "X_train, X_test, y_train, y_test = train_test_split( X,y, test_size = 0.2, random_state = 0)"
      ],
      "metadata": {
        "id": "zH-r5ocqdWUd"
      },
      "execution_count": null,
      "outputs": []
    },
    {
      "cell_type": "code",
      "source": [
        "print(X_train.shape)\n",
        "print(X_test.shape)"
      ],
      "metadata": {
        "colab": {
          "base_uri": "https://localhost:8080/"
        },
        "id": "GAVvaqcKdWS0",
        "outputId": "e9f4293a-94e6-45c8-84c3-9935434d6138"
      },
      "execution_count": null,
      "outputs": [
        {
          "output_type": "stream",
          "name": "stdout",
          "text": [
            "(5634, 2)\n",
            "(1409, 2)\n"
          ]
        }
      ]
    },
    {
      "cell_type": "code",
      "source": [
        "y_train.value_counts()"
      ],
      "metadata": {
        "colab": {
          "base_uri": "https://localhost:8080/"
        },
        "id": "HlXd4tKm88SM",
        "outputId": "2df700e1-f127-45c4-e9b3-36f15a8987df"
      },
      "execution_count": null,
      "outputs": [
        {
          "output_type": "execute_result",
          "data": {
            "text/plain": [
              "0    4133\n",
              "1    1501\n",
              "Name: class, dtype: int64"
            ]
          },
          "metadata": {},
          "execution_count": 30
        }
      ]
    },
    {
      "cell_type": "code",
      "source": [
        "y_test.value_counts()"
      ],
      "metadata": {
        "colab": {
          "base_uri": "https://localhost:8080/"
        },
        "id": "4ObSkZh_88M8",
        "outputId": "6543c101-edda-4325-d532-e3de3b8775d7"
      },
      "execution_count": null,
      "outputs": [
        {
          "output_type": "execute_result",
          "data": {
            "text/plain": [
              "0    1041\n",
              "1     368\n",
              "Name: class, dtype: int64"
            ]
          },
          "metadata": {},
          "execution_count": 31
        }
      ]
    },
    {
      "cell_type": "markdown",
      "source": [
        "## <b>Fitting logistic regression on train data"
      ],
      "metadata": {
        "id": "qFwTmxwk9MZU"
      }
    },
    {
      "cell_type": "code",
      "source": [
        "log_reg = LogisticRegression()\n",
        "log_reg.fit(X_train, y_train)"
      ],
      "metadata": {
        "colab": {
          "base_uri": "https://localhost:8080/"
        },
        "id": "wZEb5b-w9R0d",
        "outputId": "cbaf31b1-631a-480e-f9c7-4e6fad4f73ab"
      },
      "execution_count": null,
      "outputs": [
        {
          "output_type": "execute_result",
          "data": {
            "text/plain": [
              "LogisticRegression()"
            ]
          },
          "metadata": {},
          "execution_count": 33
        }
      ]
    },
    {
      "cell_type": "code",
      "source": [
        "#Get the model score\n",
        "log_reg.score(X_train, y_train)"
      ],
      "metadata": {
        "colab": {
          "base_uri": "https://localhost:8080/"
        },
        "id": "gQqLh3-nmK6z",
        "outputId": "15068b4e-1c4e-42eb-ad54-ac3e1d0ac8de"
      },
      "execution_count": null,
      "outputs": [
        {
          "output_type": "execute_result",
          "data": {
            "text/plain": [
              "0.7857649982250621"
            ]
          },
          "metadata": {},
          "execution_count": 37
        }
      ]
    },
    {
      "cell_type": "code",
      "source": [
        "#Get the model intercept\n",
        "log_reg.intercept_"
      ],
      "metadata": {
        "colab": {
          "base_uri": "https://localhost:8080/"
        },
        "id": "lqJOiMfb9ovF",
        "outputId": "986b877e-d3af-4845-b60c-889b026319b6"
      },
      "execution_count": null,
      "outputs": [
        {
          "output_type": "execute_result",
          "data": {
            "text/plain": [
              "array([-1.77408975])"
            ]
          },
          "metadata": {},
          "execution_count": 34
        }
      ]
    },
    {
      "cell_type": "code",
      "source": [
        "# Get the model coefficients\n",
        "log_reg.coef_"
      ],
      "metadata": {
        "colab": {
          "base_uri": "https://localhost:8080/"
        },
        "id": "q12W8La09Rxt",
        "outputId": "e4aac5e7-deaa-48f7-c121-c99f00531ed7"
      },
      "execution_count": null,
      "outputs": [
        {
          "output_type": "execute_result",
          "data": {
            "text/plain": [
              "array([[-0.05646728,  0.03315385]])"
            ]
          },
          "metadata": {},
          "execution_count": 35
        }
      ]
    },
    {
      "cell_type": "markdown",
      "source": [
        "## <b> Apply logistic regression model on test data"
      ],
      "metadata": {
        "id": "lZ0oFKMZpUJm"
      }
    },
    {
      "cell_type": "code",
      "source": [
        "# Get the predicted probabilities\n",
        "train_preds_prob = log_reg.predict_proba(X_train)\n",
        "test_preds_prob = log_reg.predict_proba(X_test)"
      ],
      "metadata": {
        "id": "9FHD1N0k88LN"
      },
      "execution_count": null,
      "outputs": []
    },
    {
      "cell_type": "code",
      "source": [
        "# Train data probability\n",
        "train_preds_prob[0:1]"
      ],
      "metadata": {
        "colab": {
          "base_uri": "https://localhost:8080/"
        },
        "id": "4Z-OWx6988JU",
        "outputId": "51a79b44-b9e4-4fd7-c3ef-9b5c3c2b7c4c"
      },
      "execution_count": null,
      "outputs": [
        {
          "output_type": "execute_result",
          "data": {
            "text/plain": [
              "array([[0.95339588, 0.04660412]])"
            ]
          },
          "metadata": {},
          "execution_count": 40
        }
      ]
    },
    {
      "cell_type": "code",
      "source": [
        "# Test data probability\n",
        "test_preds_prob[0:1]"
      ],
      "metadata": {
        "colab": {
          "base_uri": "https://localhost:8080/"
        },
        "id": "jQm7zl1-dWRI",
        "outputId": "4c670960-df9d-4c51-b927-2e5c956329e3"
      },
      "execution_count": null,
      "outputs": [
        {
          "output_type": "execute_result",
          "data": {
            "text/plain": [
              "array([[0.7145149, 0.2854851]])"
            ]
          },
          "metadata": {},
          "execution_count": 41
        }
      ]
    },
    {
      "cell_type": "code",
      "source": [
        "# Get the predicted classes\n",
        "train_class_preds = log_reg.predict(X_train)\n",
        "test_class_preds = log_reg.predict(X_test)"
      ],
      "metadata": {
        "id": "toWXwYB5-rB5"
      },
      "execution_count": null,
      "outputs": []
    },
    {
      "cell_type": "code",
      "source": [
        "train_class_preds[0:10]"
      ],
      "metadata": {
        "colab": {
          "base_uri": "https://localhost:8080/"
        },
        "id": "4PZ7bF7G_Rfx",
        "outputId": "bc1e6b13-e887-44c5-a389-f3e57097ddbf"
      },
      "execution_count": null,
      "outputs": [
        {
          "output_type": "execute_result",
          "data": {
            "text/plain": [
              "array([0, 0, 0, 0, 0, 0, 1, 0, 0, 0])"
            ]
          },
          "metadata": {},
          "execution_count": 43
        }
      ]
    },
    {
      "cell_type": "code",
      "source": [
        "test_class_preds[0:10]"
      ],
      "metadata": {
        "colab": {
          "base_uri": "https://localhost:8080/"
        },
        "id": "apsGSd6i_Rd3",
        "outputId": "9f15950e-e90d-4f25-8716-33107e91a872"
      },
      "execution_count": null,
      "outputs": [
        {
          "output_type": "execute_result",
          "data": {
            "text/plain": [
              "array([0, 0, 0, 0, 0, 1, 0, 1, 0, 0])"
            ]
          },
          "metadata": {},
          "execution_count": 46
        }
      ]
    },
    {
      "cell_type": "markdown",
      "source": [
        "## Creating Confusion matrix"
      ],
      "metadata": {
        "id": "8XSZBzTZpkc1"
      }
    },
    {
      "cell_type": "code",
      "source": [
        "from sklearn.metrics import accuracy_score, confusion_matrix\n",
        "import seaborn as sns"
      ],
      "metadata": {
        "id": "OpZ1LurP_6qU"
      },
      "execution_count": null,
      "outputs": []
    },
    {
      "cell_type": "markdown",
      "source": [
        "#<b> <u>Learning about the confusion matrix"
      ],
      "metadata": {
        "id": "sKPK94vpAD_T"
      }
    },
    {
      "cell_type": "markdown",
      "source": [
        "![CF.jpg](data:image/jpeg;base64,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)"
      ],
      "metadata": {
        "id": "BLD8empvAI0Q"
      }
    },
    {
      "cell_type": "code",
      "source": [
        "# Get the confusion matrix for both train\n",
        "\n",
        "labels = ['Retained', 'Churned']\n",
        "cm = confusion_matrix(y_train, train_class_preds)\n",
        "print(cm)\n",
        "\n",
        "ax= plt.subplot()\n",
        "sns.heatmap(cm, annot=True, ax = ax) #annot=True to annotate cells\n",
        "\n",
        "# labels, title and ticks\n",
        "ax.set_xlabel('Predicted labels')\n",
        "ax.set_ylabel('True labels')\n",
        "ax.set_title('Confusion Matrix')\n",
        "ax.xaxis.set_ticklabels(labels)\n",
        "ax.yaxis.set_ticklabels(labels)"
      ],
      "metadata": {
        "colab": {
          "base_uri": "https://localhost:8080/",
          "height": 349
        },
        "id": "TsK77_kQ_Rad",
        "outputId": "0a56d607-877b-40a9-c0b8-b1aca6b32e88"
      },
      "execution_count": null,
      "outputs": [
        {
          "output_type": "stream",
          "name": "stdout",
          "text": [
            "[[3745  388]\n",
            " [ 819  682]]\n"
          ]
        },
        {
          "output_type": "execute_result",
          "data": {
            "text/plain": [
              "[Text(0, 0.5, 'Retained'), Text(0, 1.5, 'Churned')]"
            ]
          },
          "metadata": {},
          "execution_count": 50
        },
        {
          "output_type": "display_data",
          "data": {
            "image/png": "[encoded data removed]",
            "text/plain": [
              "<Figure size 432x288 with 2 Axes>"
            ]
          },
          "metadata": {
            "needs_background": "light"
          }
        }
      ]
    },
    {
      "cell_type": "code",
      "source": [
        "# Get the confusion matrix for both test\n",
        "\n",
        "labels = ['Retained', 'Churned']\n",
        "cm = confusion_matrix(y_test, test_class_preds)\n",
        "print(cm)\n",
        "\n",
        "ax= plt.subplot()\n",
        "sns.heatmap(cm, annot=True, ax = ax); #annot=True to annotate cells\n",
        "\n",
        "# labels, title and ticks\n",
        "ax.set_xlabel('Predicted labels')\n",
        "ax.set_ylabel('True labels')\n",
        "ax.set_title('Confusion Matrix')\n",
        "ax.xaxis.set_ticklabels(labels)\n",
        "ax.yaxis.set_ticklabels(labels)"
      ],
      "metadata": {
        "colab": {
          "base_uri": "https://localhost:8080/",
          "height": 349
        },
        "id": "Hqpj9DTe_RYs",
        "outputId": "91d9bfcb-3b52-42d9-bde0-45fb217df9aa"
      },
      "execution_count": null,
      "outputs": [
        {
          "output_type": "stream",
          "name": "stdout",
          "text": [
            "[[934 107]\n",
            " [212 156]]\n"
          ]
        },
        {
          "output_type": "execute_result",
          "data": {
            "text/plain": [
              "[Text(0, 0.5, 'Retained'), Text(0, 1.5, 'Churned')]"
            ]
          },
          "metadata": {},
          "execution_count": 51
        },
        {
          "output_type": "display_data",
          "data": {
            "image/png": "[encoded data removed]",
            "text/plain": [
              "<Figure size 432x288 with 2 Axes>"
            ]
          },
          "metadata": {
            "needs_background": "light"
          }
        }
      ]
    },
    {
      "cell_type": "markdown",
      "source": [
        "## <b>Evaluation metrics for logistic regression models"
      ],
      "metadata": {
        "id": "NLyLU1d4BCtn"
      }
    },
    {
      "cell_type": "code",
      "source": [
        "# Accuracy Score\n",
        "from sklearn.metrics import accuracy_score\n",
        "train_accuracy = accuracy_score(train_class_preds,y_train)\n",
        "test_accuracy = accuracy_score(test_class_preds,y_test)\n",
        "\n",
        "print(\"The accuracy on train data is \", train_accuracy)\n",
        "print(\"The accuracy on test data is \", test_accuracy)"
      ],
      "metadata": {
        "id": "zvmxdGKQ_RVG",
        "colab": {
          "base_uri": "https://localhost:8080/"
        },
        "outputId": "6062a43e-ebfd-47eb-a6f5-08a528ad7423"
      },
      "execution_count": null,
      "outputs": [
        {
          "output_type": "stream",
          "name": "stdout",
          "text": [
            "The accuracy on train data is  0.7857649982250621\n",
            "The accuracy on test data is  0.7735982966643009\n"
          ]
        }
      ]
    },
    {
      "cell_type": "code",
      "source": [
        "# Precision\n",
        "from sklearn.metrics import precision_score\n",
        "train_precision = precision_score(train_class_preds,y_train)\n",
        "test_precision = precision_score(test_class_preds,y_test)\n",
        "\n",
        "print(\"The Precision on train data is \", train_precision)\n",
        "print(\"The Precision on test data is \", test_precision)"
      ],
      "metadata": {
        "id": "kdvsNgn1_RTO",
        "colab": {
          "base_uri": "https://localhost:8080/"
        },
        "outputId": "d73a7c91-3cbc-4974-d967-a81411f835c7"
      },
      "execution_count": null,
      "outputs": [
        {
          "output_type": "stream",
          "name": "stdout",
          "text": [
            "The Precision on train data is  0.45436375749500335\n",
            "The Precision on test data is  0.42391304347826086\n"
          ]
        }
      ]
    },
    {
      "cell_type": "code",
      "source": [
        "# Recall\n",
        "from sklearn.metrics import recall_score\n",
        "train_recall = recall_score(train_class_preds,y_train)\n",
        "test_recall = recall_score(test_class_preds,y_test)\n",
        "\n",
        "print(\"The Recall on train data is \", train_recall)\n",
        "print(\"The Recall on test data is \", test_recall)"
      ],
      "metadata": {
        "colab": {
          "base_uri": "https://localhost:8080/"
        },
        "id": "QRyvQWvFrlQP",
        "outputId": "a3e634e9-8697-491b-aeef-fecb14ae0695"
      },
      "execution_count": null,
      "outputs": [
        {
          "output_type": "stream",
          "name": "stdout",
          "text": [
            "The Recall on train data is  0.6373831775700934\n",
            "The Recall on test data is  0.5931558935361216\n"
          ]
        }
      ]
    },
    {
      "cell_type": "code",
      "source": [
        "# F1_Score\n",
        "from sklearn.metrics import f1_score\n",
        "train_f1 = f1_score(train_class_preds,y_train)\n",
        "test_f1 = f1_score(test_class_preds,y_test)\n",
        "\n",
        "print(\"The F1_Score on train data is \", train_f1)\n",
        "print(\"The F1_Score on test data is \", test_f1)"
      ],
      "metadata": {
        "colab": {
          "base_uri": "https://localhost:8080/"
        },
        "id": "N8MfSgh4r9Ub",
        "outputId": "014fe3d0-2de2-4175-f8fd-6a2ff11b5d35"
      },
      "execution_count": null,
      "outputs": [
        {
          "output_type": "stream",
          "name": "stdout",
          "text": [
            "The F1_Score on train data is  0.5305328665888759\n",
            "The F1_Score on test data is  0.49445324881141045\n"
          ]
        }
      ]
    },
    {
      "cell_type": "code",
      "source": [
        "# log_loss\n",
        "from sklearn.metrics import log_loss\n",
        "train_log_loss = log_loss(train_class_preds,y_train)\n",
        "test_log_loss = log_loss(test_class_preds,y_test)\n",
        "\n",
        "print(\"The log_loss on train data is \", train_log_loss)\n",
        "print(\"The log_loss on test data is \", test_log_loss)"
      ],
      "metadata": {
        "colab": {
          "base_uri": "https://localhost:8080/"
        },
        "id": "fr9AV7U4sjiZ",
        "outputId": "a3a2c26a-61c5-4bc8-d593-2133b76327e7"
      },
      "execution_count": null,
      "outputs": [
        {
          "output_type": "stream",
          "name": "stdout",
          "text": [
            "The log_loss on train data is  7.399531057677056\n",
            "The log_loss on test data is  7.819758115423499\n"
          ]
        }
      ]
    },
    {
      "cell_type": "code",
      "source": [
        "# AUC_ROC\n",
        "from sklearn.metrics import roc_auc_score\n",
        "train_roc_auc = roc_auc_score(train_class_preds,y_train)\n",
        "test_roc_auc = roc_auc_score(test_class_preds,y_test)\n",
        "\n",
        "print(\"The roc_auc on train data is \", train_f1)\n",
        "print(\"The roc_auc on test data is \", test_f1)"
      ],
      "metadata": {
        "colab": {
          "base_uri": "https://localhost:8080/"
        },
        "id": "HJqoPI1IsujH",
        "outputId": "d3e033e5-1488-4c02-c1f5-bcad5416ac0f"
      },
      "execution_count": null,
      "outputs": [
        {
          "output_type": "stream",
          "name": "stdout",
          "text": [
            "The roc_auc on train data is  0.5305328665888759\n",
            "The roc_auc on test data is  0.49445324881141045\n"
          ]
        }
      ]
    },
    {
      "cell_type": "markdown",
      "source": [
        "## <b>Implementing Ridge Regularized on Logistic Regression"
      ],
      "metadata": {
        "id": "FAAdK0cUuFbZ"
      }
    },
    {
      "cell_type": "code",
      "source": [
        "ridge_log = LogisticRegression(penalty='l2', C=1, solver= 'liblinear')\n",
        "ridge_log.fit(X_train, y_train)"
      ],
      "metadata": {
        "colab": {
          "base_uri": "https://localhost:8080/"
        },
        "id": "zUvZmEPKzkw4",
        "outputId": "6f676b69-f8f9-4a60-8c5b-6dc289ea076a"
      },
      "execution_count": null,
      "outputs": [
        {
          "output_type": "execute_result",
          "data": {
            "text/plain": [
              "LogisticRegression(C=1, solver='liblinear')"
            ]
          },
          "metadata": {},
          "execution_count": 119
        }
      ]
    },
    {
      "cell_type": "code",
      "source": [
        "ridge_log.score(X_train, y_train)"
      ],
      "metadata": {
        "colab": {
          "base_uri": "https://localhost:8080/"
        },
        "id": "pP9fAe9OuiC9",
        "outputId": "260b608d-de39-4aa0-a64d-4ce7b2296b94"
      },
      "execution_count": null,
      "outputs": [
        {
          "output_type": "execute_result",
          "data": {
            "text/plain": [
              "0.7855875044373447"
            ]
          },
          "metadata": {},
          "execution_count": 120
        }
      ]
    },
    {
      "cell_type": "code",
      "source": [
        "#Get the model intercept\n",
        "ridge_log.intercept_"
      ],
      "metadata": {
        "colab": {
          "base_uri": "https://localhost:8080/"
        },
        "id": "eA0JkP062Vss",
        "outputId": "4823afe1-ca67-43cc-e144-d4f51894df4e"
      },
      "execution_count": null,
      "outputs": [
        {
          "output_type": "execute_result",
          "data": {
            "text/plain": [
              "array([-1.75639214])"
            ]
          },
          "metadata": {},
          "execution_count": 121
        }
      ]
    },
    {
      "cell_type": "code",
      "source": [
        "#Get the model coeficient\n",
        "ridge_log.coef_"
      ],
      "metadata": {
        "colab": {
          "base_uri": "https://localhost:8080/"
        },
        "id": "JXCbjaZn2ZbT",
        "outputId": "77dbb7cc-c486-4be0-e1e6-c7fb9ddd1f92"
      },
      "execution_count": null,
      "outputs": [
        {
          "output_type": "execute_result",
          "data": {
            "text/plain": [
              "array([[-0.05644497,  0.03292783]])"
            ]
          },
          "metadata": {},
          "execution_count": 122
        }
      ]
    },
    {
      "cell_type": "markdown",
      "source": [
        "## Apply ridge logistic regression model on test data"
      ],
      "metadata": {
        "id": "YwPUeA3d2t6t"
      }
    },
    {
      "cell_type": "code",
      "source": [
        "# Get the predicted probabilities\n",
        "train_preds_prob_ridge = ridge_log.predict_proba(X_train)\n",
        "test_preds_prob_ridge = ridge_log.predict_proba(X_test)"
      ],
      "metadata": {
        "id": "6sUsDWgm2tjp"
      },
      "execution_count": null,
      "outputs": []
    },
    {
      "cell_type": "code",
      "source": [
        "# Get the predicted classes\n",
        "train_class_preds_ridge = ridge_log.predict(X_train)\n",
        "test_class_preds_ridge = ridge_log.predict(X_test)"
      ],
      "metadata": {
        "id": "wCvFVUqd3MUm"
      },
      "execution_count": null,
      "outputs": []
    },
    {
      "cell_type": "code",
      "source": [
        "print(train_class_preds_ridge)\n",
        "print(test_class_preds_ridge)"
      ],
      "metadata": {
        "colab": {
          "base_uri": "https://localhost:8080/"
        },
        "id": "iMTLN4x73fi5",
        "outputId": "5e617bf2-bf4e-48b9-ead9-50392c340c8b"
      },
      "execution_count": null,
      "outputs": [
        {
          "output_type": "stream",
          "name": "stdout",
          "text": [
            "[0 0 0 ... 0 1 0]\n",
            "[0 0 0 ... 0 0 0]\n"
          ]
        }
      ]
    },
    {
      "cell_type": "markdown",
      "source": [
        "# Confusion Matrix for Ridge Logistic Regression "
      ],
      "metadata": {
        "id": "Qg2OOYWC3w4Y"
      }
    },
    {
      "cell_type": "code",
      "source": [
        "# Get the confusion matrix for both train\n",
        "\n",
        "labels = ['Retained', 'Churned']\n",
        "cm = confusion_matrix(y_train, train_class_preds_ridge)\n",
        "print(cm)\n",
        "\n",
        "ax= plt.subplot()\n",
        "sns.heatmap(cm, annot=True, ax = ax) #annot=True to annotate cells\n",
        "\n",
        "# labels, title and ticks\n",
        "ax.set_xlabel('Predicted labels')\n",
        "ax.set_ylabel('True labels')\n",
        "ax.set_title('Confusion Matrix')\n",
        "ax.xaxis.set_ticklabels(labels)\n",
        "ax.yaxis.set_ticklabels(labels)"
      ],
      "metadata": {
        "colab": {
          "base_uri": "https://localhost:8080/",
          "height": 349
        },
        "id": "fE5l6OEI4AIu",
        "outputId": "3c3fe413-2179-4536-effc-99fab61bae69"
      },
      "execution_count": null,
      "outputs": [
        {
          "output_type": "stream",
          "name": "stdout",
          "text": [
            "[[3746  387]\n",
            " [ 821  680]]\n"
          ]
        },
        {
          "output_type": "execute_result",
          "data": {
            "text/plain": [
              "[Text(0, 0.5, 'Retained'), Text(0, 1.5, 'Churned')]"
            ]
          },
          "metadata": {},
          "execution_count": 126
        },
        {
          "output_type": "display_data",
          "data": {
            "image/png": "[encoded data removed]",
            "text/plain": [
              "<Figure size 432x288 with 2 Axes>"
            ]
          },
          "metadata": {
            "needs_background": "light"
          }
        }
      ]
    },
    {
      "cell_type": "code",
      "source": [
        "# Get the confusion matrix for both test\n",
        "\n",
        "labels = ['Retained', 'Churned']\n",
        "cm = confusion_matrix(y_test, test_class_preds_ridge)\n",
        "print(cm)\n",
        "\n",
        "ax= plt.subplot()\n",
        "sns.heatmap(cm, annot=True, ax = ax); #annot=True to annotate cells\n",
        "\n",
        "# labels, title and ticks\n",
        "ax.set_xlabel('Predicted labels')\n",
        "ax.set_ylabel('True labels')\n",
        "ax.set_title('Confusion Matrix')\n",
        "ax.xaxis.set_ticklabels(labels)\n",
        "ax.yaxis.set_ticklabels(labels)"
      ],
      "metadata": {
        "colab": {
          "base_uri": "https://localhost:8080/",
          "height": 349
        },
        "id": "iAmD812B4AFZ",
        "outputId": "ca1e0257-484d-45b5-a06e-9d7dcb8b2b00"
      },
      "execution_count": null,
      "outputs": [
        {
          "output_type": "stream",
          "name": "stdout",
          "text": [
            "[[935 106]\n",
            " [211 157]]\n"
          ]
        },
        {
          "output_type": "execute_result",
          "data": {
            "text/plain": [
              "[Text(0, 0.5, 'Retained'), Text(0, 1.5, 'Churned')]"
            ]
          },
          "metadata": {},
          "execution_count": 127
        },
        {
          "output_type": "display_data",
          "data": {
            "image/png": "[encoded data removed]",
            "text/plain": [
              "<Figure size 432x288 with 2 Axes>"
            ]
          },
          "metadata": {
            "needs_background": "light"
          }
        }
      ]
    },
    {
      "cell_type": "markdown",
      "source": [
        "## Evaluation metrics for Ridge logistic regression models"
      ],
      "metadata": {
        "id": "8KpN3sQE5YcQ"
      }
    },
    {
      "cell_type": "code",
      "source": [
        "train_accuracy_ridge = accuracy_score(train_class_preds_ridge,y_train)\n",
        "test_accuracy_ridge = accuracy_score(test_class_preds_ridge,y_test)\n",
        "\n",
        "train_precision_ridge = precision_score(train_class_preds_ridge,y_train)\n",
        "test_precision_ridge = precision_score(test_class_preds_ridge,y_test)\n",
        "\n",
        "train_recall_ridge = recall_score(train_class_preds_ridge,y_train)\n",
        "test_recall_ridge = recall_score(test_class_preds_ridge,y_test)\n",
        "\n",
        "train_f1_ridge = f1_score(train_class_preds_ridge,y_train)\n",
        "test_f1_ridge = f1_score(test_class_preds_ridge,y_test)\n",
        "\n",
        "train_log_loss_ridge = log_loss(train_class_preds_ridge,y_train)\n",
        "test_log_loss_ridge = log_loss(test_class_preds_ridge,y_test)\n",
        "\n",
        "train_roc_auc_ridge = roc_auc_score(train_class_preds_ridge,y_train)\n",
        "test_roc_auc_ridge = roc_auc_score(test_class_preds_ridge,y_test)"
      ],
      "metadata": {
        "id": "KDg_v2PQ5oBs"
      },
      "execution_count": null,
      "outputs": []
    },
    {
      "cell_type": "code",
      "source": [
        "print(\"The accuracy on train data is \", train_accuracy_ridge)\n",
        "print(\"The accuracy on test data is \", test_accuracy_ridge)\n",
        "\n",
        "print(\"The Precision on train data is \", train_precision_ridge)\n",
        "print(\"The Precision on test data is \", test_precision_ridge)\n",
        "\n",
        "print(\"The Recall on train data is \", train_recall_ridge)\n",
        "print(\"The Recall on test data is \", test_recall_ridge)\n",
        "\n",
        "print(\"The F1_Score on train data is \", train_f1_ridge)\n",
        "print(\"The F1_Score on test data is \", test_f1_ridge)\n",
        "\n",
        "print(\"The log_loss on train data is \", train_log_loss_ridge)\n",
        "print(\"The log_loss on test data is \", test_log_loss_ridge)\n",
        "\n",
        "print(\"The roc_auc on train data is \", train_f1_ridge)\n",
        "print(\"The roc_auc on test data is \", test_f1_ridge)"
      ],
      "metadata": {
        "colab": {
          "base_uri": "https://localhost:8080/"
        },
        "id": "Nl0dTtM66N5a",
        "outputId": "290d80eb-d3a0-4643-9f0d-fdfd4c308ff9"
      },
      "execution_count": null,
      "outputs": [
        {
          "output_type": "stream",
          "name": "stdout",
          "text": [
            "The accuracy on train data is  0.7855875044373447\n",
            "The accuracy on test data is  0.7750177430801988\n",
            "The Precision on train data is  0.4530313124583611\n",
            "The Precision on test data is  0.4266304347826087\n",
            "The Recall on train data is  0.6373008434864105\n",
            "The Recall on test data is  0.596958174904943\n",
            "The F1_Score on train data is  0.5295950155763239\n",
            "The F1_Score on test data is  0.49762282091917587\n",
            "The log_loss on train data is  7.405661759769667\n",
            "The log_loss on test data is  7.770731605567394\n",
            "The roc_auc on train data is  0.5295950155763239\n",
            "The roc_auc on test data is  0.49762282091917587\n"
          ]
        }
      ]
    }
  ]
}